{
 "cells": [
  {
   "cell_type": "markdown",
   "metadata": {},
   "source": [
    "# card"
   ]
  },
  {
   "cell_type": "code",
   "execution_count": 44,
   "metadata": {},
   "outputs": [],
   "source": [
    "card_parameters = {}\n",
    "\n",
    "card_parameters[\"customize\"] = {\n",
    "    \"gravity_coupling\" : \"5\" ,\n",
    "    \"KKphoton_coupling\" : \"2.65\" ,\n",
    "    \"KKW_coupling\" : \"3\" ,\n",
    "    \"KKgluon_coupling\" : \"6\" ,\n",
    "    \"KKGluon_mass\" : \"3000\" ,\n",
    "    \"KKRadion_mass\" : \"1500\" ,\n",
    "}\n",
    "\n",
    "card_parameters[\"process\"] = {\n",
    "    \"output_dir\" : \"\",\n",
    "}\n",
    "card_parameters[\"process\"][\"output_dir\"] = process_output_dir( customize = card_parameters[\"customize\"] )\n",
    "\n",
    "card_parameters[\"output\"] = {\n",
    "    \"output_dir\" : \"/eos/user/q/qiguo/gen/genproductions/bin/MadGraph5_aMCatNLO/cards/gKK/v1/\",\n",
    "    \"output_dir_relative_path\" : \"cards/gKK/v1/\",\n",
    "    \"run_scripts\" : \"/eos/user/q/qiguo/gen/genproductions/bin/MadGraph5_aMCatNLO/gKK_21_6_25.sh\",\n",
    "}\n",
    "\n",
    "build_card(card_parameters = card_parameters)"
   ]
  },
  {
   "cell_type": "code",
   "execution_count": 43,
   "metadata": {},
   "outputs": [],
   "source": [
    "import os\n",
    "def process_output_dir(**kwargs):\n",
    "    customize = kwargs.get(\"customize\",{})\n",
    "    # default_output_dir_templete = \"Res1ToRes2GluToGluVV_M1-{KKGluon_mass}_R-{ratio} -nojpeg\" # ratio is not good for case : (3000,1000)\n",
    "    default_output_dir_templete = \"Res1ToRes2GluToGluVV_M1-{KKGluon_mass}_R-{KKRadion_mass}\"\n",
    "    output_dir_templete = kwargs.get(\"output_dir_templete\",{})\n",
    "    \n",
    "    ratio = str(float(customize[\"KKRadion_mass\"])/float(customize[\"KKGluon_mass\"])).replace(\".\",\"p\")\n",
    "    customize[\"ratio\"] = ratio\n",
    "    output_dir = default_output_dir_templete.format(**customize)\n",
    "    \n",
    "    return output_dir\n",
    "\n",
    "\n",
    "def build_card(**kwargs):\n",
    "    templete_card_default = {\n",
    "        \"path\":\"/eos/home-q/qiguo/SWAN_projects/gKK/sample/gridpack/templete_card/\",\n",
    "        \"customize\" : \"templete_customizecards.dat\",\n",
    "        \"process\" : \"templete_proc_card.dat\",\n",
    "        \"run\" : \"templete_run_card.dat\",\n",
    "        \"extramodels\" : \"templete_extramodels.dat\",\n",
    "    }\n",
    "    templete_card = kwargs.get(\"templete_card\",templete_card_default)\n",
    "    \n",
    "    card_parameters = kwargs.get(\"card_parameters\",{})\n",
    "    \n",
    "    file_outdir = card_parameters[\"output\"][\"output_dir\"]+card_parameters[\"process\"][\"output_dir\"]+\"/\"\n",
    "    file_outdir_relative_path = card_parameters[\"output\"][\"output_dir_relative_path\"]+card_parameters[\"process\"][\"output_dir\"]+\"/\"\n",
    "    \n",
    "    if not os.path.isfile(file_outdir):\n",
    "        os.system(\"mkdir \"+file_outdir)\n",
    "    \n",
    "    runcommands_default = \"./gridpack_generation.sh {name_of_process_card_without _proc_card} {folder_containing_cards_relative_to_current_location} >{name_of_process_card_without _proc_card}.debug 2>&1 &\"\n",
    "    runcommands = kwargs.get(\"runcommands\",runcommands_default)\n",
    "    runcommands_par = {\n",
    "        \"name_of_process_card_without _proc_card\" :  card_parameters[\"process\"][\"output_dir\"] ,\n",
    "        \"folder_containing_cards_relative_to_current_location\" :  file_outdir_relative_path ,\n",
    "    }\n",
    "    \n",
    "    run_scripts = card_parameters[\"output\"][\"run_scripts\"]\n",
    "    with open(run_scripts, \"w\") as f:\n",
    "        f.write(runcommands.format(**runcommands_par))\n",
    "    \n",
    "    for key in templete_card:\n",
    "        if key!= \"path\":\n",
    "            output_card_name = templete_card[key].replace( \"templete\",card_parameters[\"process\"][\"output_dir\"] )\n",
    "            templete = \"{path}/{filename}\".format( path = templete_card[\"path\"], filename = templete_card[key])\n",
    "            fin = open(templete,\"r\")\n",
    "            cardin = fin.read()\n",
    "            fileout = file_outdir+templete_card[key].replace( \"templete\", card_parameters[\"process\"][\"output_dir\"] )\n",
    "            with open(fileout,\"w\") as f:\n",
    "                f.write(cardin.format(**(card_parameters.get(key,{}))))\n",
    "            fin.close()\n",
    "                    \n",
    "        "
   ]
  },
  {
   "cell_type": "markdown",
   "metadata": {},
   "source": [
    "# note\n",
    "1. 15000  = bwcutoff  (检查下这个)\n",
    "2. 250 = nevents ! Number of unweighted events requested （太少了？）\n",
    "2. 细致地检查下runcard 里面的cut"
   ]
  }
 ],
 "metadata": {
  "kernelspec": {
   "display_name": "Python 3",
   "language": "python",
   "name": "python3"
  },
  "language_info": {
   "codemirror_mode": {
    "name": "ipython",
    "version": 2
   },
   "file_extension": ".py",
   "mimetype": "text/x-python",
   "name": "python",
   "nbconvert_exporter": "python",
   "pygments_lexer": "ipython2",
   "version": "2.7.15+"
  },
  "toc": {
   "base_numbering": 1,
   "nav_menu": {},
   "number_sections": true,
   "sideBar": true,
   "skip_h1_title": false,
   "title_cell": "Table of Contents",
   "title_sidebar": "Contents",
   "toc_cell": false,
   "toc_position": {},
   "toc_section_display": true,
   "toc_window_display": true
  }
 },
 "nbformat": 4,
 "nbformat_minor": 2
}
