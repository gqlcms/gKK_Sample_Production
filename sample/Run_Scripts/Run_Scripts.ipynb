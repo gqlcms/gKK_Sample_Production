{
 "cells": [
  {
   "cell_type": "markdown",
   "id": "4b4a005a",
   "metadata": {},
   "source": [
    "# Generate production scripts"
   ]
  },
  {
   "cell_type": "markdown",
   "id": "433c1729",
   "metadata": {},
   "source": [
    "## scripts\n",
    "<font color=Red size=5 > pileupfile should be changed if run samples for 16,17 </font>"
   ]
  },
  {
   "cell_type": "markdown",
   "id": "025dab64",
   "metadata": {},
   "source": [
    "### for dryrun"
   ]
  },
  {
   "cell_type": "code",
   "execution_count": 3,
   "id": "04199316",
   "metadata": {
    "scrolled": true
   },
   "outputs": [
    {
     "name": "stdout",
     "output_type": "stream",
     "text": [
      "# echo 365365 | voms-proxy-init -voms cms -valid 192:00\n",
      "# dasgoclient -query=\"file dataset=/Neutrino_E-10_gun/RunIISummer17PrePremix-PUAutumn18_102X_upgrade2018_realistic_v15-v1/GEN-SIM-DIGI-RAW\" > pileup_files.txt\n",
      "# dryrun \n",
      "\n",
      "sh gKK_gVV_production.sh -p pileup_files.txt -s WWZ_ScaleST -c -o $PWD/gKK-Test_v2 -a 1 -n 200 -g Res1ToRes2GluToGluVV_M1-3000_R-1500_slc6_amd64_gcc481_CMSSW_7_1_30_tarball.tar.xz -l -d\n",
      "# echo 365365 | voms-proxy-init -voms cms -valid 192:00\n",
      "# dasgoclient -query=\"file dataset=/Neutrino_E-10_gun/RunIISummer17PrePremix-PUAutumn18_102X_upgrade2018_realistic_v15-v1/GEN-SIM-DIGI-RAW\" > pileup_files.txt\n",
      "# dryrun \n",
      "\n",
      "sh gKK_gVV_production.sh -p pileup_files.txt -s gKK_gVV -c -o $PWD/gKK-TestRun_v2 -a 1 -n 10 -g Res1ToRes2GluToGluVV_M1-3000_R-1500_slc6_amd64_gcc481_CMSSW_7_1_30_tarball.tar.xz -e 1 -l\n"
     ]
    }
   ],
   "source": [
    "import os\n",
    "\n",
    "gridpack_path = \"/eos/user/q/qiguo/www/gKK/sample_production/gridpack/\"\n",
    "gridpacks = os.listdir(gridpack_path)\n",
    "\n",
    "Generate_Scripts_ = Generate_Scripts()\n",
    "\n",
    "scripts_info = {}\n",
    "scripts_info['outdir'] = '/eos/user/q/qiguo/www/gKK/sample_production/scripts/'\n",
    "scripts_info['scripts_name'] = 'dryrun.sh'\n",
    "scripts_info['OUT_DIR'] = 'gKK-Test_v2'\n",
    "which_scripts = 'dry_run'\n",
    "Generate_Scripts_.Generate_Scripts(gridpacks = gridpacks, scripts_info = scripts_info, which_scripts = which_scripts)\n",
    "\n",
    "\n",
    "scripts_info['outdir'] = '/eos/user/q/qiguo/www/gKK/sample_production/scripts/'\n",
    "scripts_info['scripts_name'] = 'local_test.sh'\n",
    "scripts_info['OUT_DIR'] = 'gKK-TestRun_v2'\n",
    "which_scripts = 'local_test'\n",
    "Generate_Scripts_.Generate_Scripts(gridpacks = gridpacks, scripts_info = scripts_info, which_scripts = which_scripts)\n"
   ]
  },
  {
   "cell_type": "code",
   "execution_count": 5,
   "id": "a7b3b122",
   "metadata": {},
   "outputs": [
    {
     "name": "stdout",
     "output_type": "stream",
     "text": [
      "/eos/home-q/qiguo/SWAN_projects/gKK/sample/Run_Scripts\r\n"
     ]
    }
   ],
   "source": [
    "!pwd"
   ]
  },
  {
   "cell_type": "code",
   "execution_count": 4,
   "id": "b40c7134",
   "metadata": {},
   "outputs": [
    {
     "name": "stdout",
     "output_type": "stream",
     "text": [
      "#!/bin/bash\n",
      "echo $PWD\n",
      "\n",
      "echo ${1} \n",
      "\n",
      "OUTPUT_FILE=Res1ToRes2GluToGluVV_M1-3000_R-1500.root \n",
      "OUTPUTDIR=/stash/user/qilongguo/work/gKK/private_sample/Res1ToRes2GluToGluVV_M1-3000_R-1500\n",
      "\n",
      "\n",
      "# do we need the CMSSW_10_2_22.tar.gz?\n",
      "\n",
      "cat>Job_${1}.sh<<EOF\n",
      "#!/bin/bash\n",
      "tar -xf CMSSW_10_2_22.tar.gz\n",
      "source /cvmfs/cms.cern.ch/cmsset_default.sh\n",
      "export SCRAM_ARCH=slc7_amd64_gcc820 \n",
      "cd CMSSW_10_2_22/src\n",
      "scramv1 b ProjectRename\n",
      "cmsenv\n",
      "export SCRAM_ARCH=\"slc7_amd64_gcc820\";\n",
      "scramv1 b\n",
      "cd -\n",
      "sh gKK_gVV_production.sh -p pileup_files.txt -s Res1ToRes2GluToGluVV_M1-3000_R-1500 -o $PWD -a \\${1} -n 100 -g Res1ToRes2GluToGluVV_M1-3000_R-1500_slc6_amd64_gcc481_CMSSW_7_1_30_tarball.tar.xz -f ${OUTPUT_FILE} -e \\${2}\\${3} -c \n",
      "EOF\n",
      "\n",
      "chmod 775 Job_${1}.sh\n",
      "\n",
      "\n",
      "cat>condor_${1}.jdl<<EOF\n",
      "universe = vanilla\n",
      "Executable = Job_${1}.sh\n",
      "Arguments = ${1} \\$(Cluster) \\$(Process)\n",
      "Requirements = OpSys == \"LINUX\" && (Arch != \"DUMMY\" )\n",
      "request_disk = 10000000\n",
      "request_memory = 6000\n",
      "Should_Transfer_Files = YES\n",
      "WhenToTransferOutput = ON_EXIT\n",
      "transfer_input_files = Job_${1}.sh, gKK_gVV_production.sh, pileup_files.txt, CMSSW_10_2_22.tar.gz , x509up_u100637 \n",
      "transfer_output_remaps = \"${OUTPUT_FILE} = ${OUTPUTDIR}/File_\\$(Cluster)_\\$(Process)_${1}_${OUTPUT_FILE}\"\n",
      "notification = Never\n",
      "Output = CondorJobs/STDOUT_\\$(Cluster)\\$(Process)${1}.stdout\n",
      "Error = CondorJobs/STDERR_\\$(Cluster)\\$(Process)${1}.stderr\n",
      "Log = CondorJobs/LOG_\\$(Cluster)\\$(Process)${1}.log\n",
      "x509userproxy = x509up_u100637\n",
      "+MaxRuntime           = 86400\n",
      "Queue 10\n",
      "EOF\n",
      "\n",
      "\n",
      "\n",
      "if [ \"${2}\" = \"run\" ]; then\n",
      "   condor_submit condor_${1}.jdl\n",
      "   echo \"submit condor job\"\n",
      "else\n",
      "   echo 'dry run'\n",
      "fi\n",
      "\n",
      "\n",
      "\n",
      " ======================================= \n",
      "\n",
      "\n",
      "max=60\n",
      "\n",
      "([ -s CMSSW_10_2_22.tar.gz ] || sh setup.sh) || exit\n",
      "cp /tmp/x509up_u100637 .\n",
      "mkdir -p CondorJobs\n",
      "\n",
      "# check the pile-up files before submit \n",
      "PILEUP_FILES=pileup_files.txt\n",
      "\n",
      "if [ -f \"$PILEUP_FILES\" ]; then\n",
      "    echo \"$PILEUP_FILES exist\"\n",
      "else \n",
      "    echo \"$PILEUP_FILES does not exist!\"\n",
      "    exit 1\n",
      "fi\n",
      "\n",
      "PILEUP_INPUT=$(shuf -n 2 $PILEUP_FILES | tr '\\n' ',')\n",
      "PILEUP_INPUT=${PILEUP_INPUT::-1}\n",
      "\n",
      "if [[ \"$PILEUP_INPUT\" = *?.root ]]; then\n",
      "    echo \"Pileup input looks OK\"\n",
      "else\n",
      "    echo \"Something unexpected happened with the pileup input!\"\n",
      "    exit 1\n",
      "fi\n",
      "\n",
      "\n",
      "for i in `seq 1 $max`\n",
      "do\n",
      "    bash submitcondorjobs_Res1ToRes2GluToGluVV_M1-3000_R-1500.sh $i run\n",
      "done\n",
      "\n"
     ]
    }
   ],
   "source": [
    "Generate_Scripts_ = Generate_Scripts()\n",
    "scripts_info = {}\n",
    "scripts_info['outdir'] = '/eos/user/q/qiguo/www/gKK/sample_production/scripts/'\n",
    "scripts_info['scripts_name'] = 'submitcondorjobs_Res1ToRes2GluToGluVV_M1-3000_R-1500.sh'\n",
    "scripts_info['OUT_DIR'] = ''\n",
    "scripts_info['replace'] = {}\n",
    "scripts_info['replace']['Res1ToRes2GluToGluVV_M1-3000_R-1500_slc6_amd64_gcc481_CMSSW_7_1_30_tarball.tar.xz'] = {\n",
    "    'OUTPUT_FILE' : 'Res1ToRes2GluToGluVV_M1-3000_R-1500.root',\n",
    "    'OUTPUTDIR' : '/stash/user/qilongguo/work/gKK/private_sample/Res1ToRes2GluToGluVV_M1-3000_R-1500',\n",
    "    'process' : 'Res1ToRes2GluToGluVV_M1-3000_R-1500',\n",
    "    'nEvents' : '100',\n",
    "    'gridpack' : 'Res1ToRes2GluToGluVV_M1-3000_R-1500_slc6_amd64_gcc481_CMSSW_7_1_30_tarball.tar.xz',\n",
    "    'queue_number' : '10',\n",
    "}\n",
    "which_scripts = 'submitcondorjobs'\n",
    "Generate_Scripts_.Generate_Scripts(gridpacks = gridpacks, scripts_info = scripts_info, which_scripts = which_scripts)\n",
    "\n",
    "which_scripts = 'submitjobs'\n",
    "scripts_info = {}\n",
    "scripts_info['outdir'] = '/eos/user/q/qiguo/www/gKK/sample_production/scripts/'\n",
    "scripts_info['scripts_name'] = 'submitjobs_Res1ToRes2GluToGluVV_M1-3000_R-1500.sh'\n",
    "scripts_info['OUT_DIR'] = ''\n",
    "scripts_info['replace'] = {}\n",
    "scripts_info['replace']['Res1ToRes2GluToGluVV_M1-3000_R-1500_slc6_amd64_gcc481_CMSSW_7_1_30_tarball.tar.xz'] = {\n",
    "    'max' : '60',\n",
    "    'scripts' : 'submitcondorjobs_Res1ToRes2GluToGluVV_M1-3000_R-1500.sh',\n",
    "    'run' : 'run',\n",
    "#     'run' : '',\n",
    "}\n",
    "print(\"\\n\\n ======================================= \\n\\n\")\n",
    "Generate_Scripts_.Generate_Scripts(gridpacks = gridpacks, scripts_info = scripts_info, which_scripts = which_scripts)"
   ]
  },
  {
   "cell_type": "markdown",
   "id": "dd48c148",
   "metadata": {},
   "source": [
    "### module"
   ]
  },
  {
   "cell_type": "code",
   "execution_count": 2,
   "id": "222b763c",
   "metadata": {
    "code_folding": []
   },
   "outputs": [],
   "source": [
    "import os,sys\n",
    "\n",
    "class Generate_Scripts():\n",
    "    \n",
    "    def __init__(self, **kwargs):\n",
    "            templete_scripts_default = {\n",
    "                'dry_run' : 'scripts_templete/dry_run/dry_run.sh',\n",
    "                'local_test' : 'scripts_templete/dry_run/local_test.sh',\n",
    "                'submitcondorjobs' : 'scripts_templete/condor_scripts/submit_condor.sh',\n",
    "                'submitjobs' : 'scripts_templete/condor_scripts/submitJob.sh',\n",
    "            }\n",
    "            self.templete_scripts = kwargs.get(\"templete_scripts\",templete_scripts_default)\n",
    "            \n",
    "    def Generate_Scripts(self, **kwargs):\n",
    "        gridpacks = kwargs.get(\"gridpacks\",[])\n",
    "        scripts_info =  kwargs.get(\"scripts_info\", {})\n",
    "        which_scripts = kwargs.get(\"which_scripts\", '')\n",
    "        Print_Scripts = kwargs.get(\"Print_Scripts\", True)\n",
    "\n",
    "        scripts_templete = open(self.templete_scripts[which_scripts],'r').read()\n",
    "        for gp in gridpacks:\n",
    "                scripts_par = {}\n",
    "                scripts_par['gridpack'] = gp\n",
    "                scripts_par['OUT_DIR'] = scripts_info['OUT_DIR']\n",
    "                for i in scripts_info.get(\"replace\",{}):\n",
    "                    if i == gp:\n",
    "                        for j in scripts_info['replace'][gp]:\n",
    "                            scripts_par[j] = scripts_info['replace'][gp][j]\n",
    "                if Print_Scripts:\n",
    "                    print(scripts_templete.format(**scripts_par))\n",
    "                # check scripts\n",
    "                if int(scripts_par.get('queue_number','10')) > 10:\n",
    "                    sys.exit(\"queue number should be smaller than 10, because we use the cluster and process number as random seed, for cmssw, the random seed will be larger than the limit if the queue number larger than 10\")\n",
    "                with open(scripts_info['outdir']+scripts_info['scripts_name'],'w') as f:\n",
    "                    f.write(scripts_templete.format(**scripts_par))\n",
    "                    \n",
    "    "
   ]
  }
 ],
 "metadata": {
  "kernelspec": {
   "display_name": "Python 3",
   "language": "python",
   "name": "python3"
  },
  "language_info": {
   "codemirror_mode": {
    "name": "ipython",
    "version": 3
   },
   "file_extension": ".py",
   "mimetype": "text/x-python",
   "name": "python",
   "nbconvert_exporter": "python",
   "pygments_lexer": "ipython3",
   "version": "3.8.10"
  },
  "toc": {
   "base_numbering": 1,
   "nav_menu": {},
   "number_sections": true,
   "sideBar": true,
   "skip_h1_title": false,
   "title_cell": "Table of Contents",
   "title_sidebar": "Contents",
   "toc_cell": false,
   "toc_position": {},
   "toc_section_display": true,
   "toc_window_display": true
  }
 },
 "nbformat": 4,
 "nbformat_minor": 5
}
