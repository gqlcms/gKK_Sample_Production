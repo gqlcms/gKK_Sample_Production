{
 "cells": [
  {
   "cell_type": "code",
   "execution_count": 1,
   "id": "805c21f4",
   "metadata": {},
   "outputs": [
    {
     "name": "stdout",
     "output_type": "stream",
     "text": [
      "Welcome to JupyROOT 6.24/00\n"
     ]
    }
   ],
   "source": [
    "import ROOT"
   ]
  },
  {
   "cell_type": "markdown",
   "id": "ea84aa8c",
   "metadata": {},
   "source": [
    "# Generate production scripts"
   ]
  },
  {
   "cell_type": "markdown",
   "id": "27b36ec1",
   "metadata": {},
   "source": [
    "## scripts"
   ]
  },
  {
   "cell_type": "markdown",
   "id": "de7c1f0c",
   "metadata": {},
   "source": [
    "1. <font color=Red size=5 > pileupfile should be changed if run samples for 16,17 </font>\n",
    "2. for dryrun"
   ]
  },
  {
   "cell_type": "code",
   "execution_count": 3,
   "id": "3dccf432",
   "metadata": {},
   "outputs": [
    {
     "ename": "SyntaxError",
     "evalue": "invalid syntax (<ipython-input-3-1f64683890cd>, line 1)",
     "output_type": "error",
     "traceback": [
      "\u001b[0;36m  File \u001b[0;32m\"<ipython-input-3-1f64683890cd>\"\u001b[0;36m, line \u001b[0;32m1\u001b[0m\n\u001b[0;31m    echo 365365 | voms-proxy-init -voms cms\u001b[0m\n\u001b[0m         ^\u001b[0m\n\u001b[0;31mSyntaxError\u001b[0m\u001b[0;31m:\u001b[0m invalid syntax\n"
     ]
    }
   ],
   "source": [
    "echo 365365 | voms-proxy-init -voms cms\n",
    "dasgoclient -query=\"file dataset=/Neutrino_E-10_gun/RunIISummer17PrePremix-PUAutumn18_102X_upgrade2018_realistic_v15-v1/GEN-SIM-DIGI-RAW\" > pileup_files.txt\n",
    "# dryrun \n",
    "\n",
    "sh gKK_gVV_production.sh -p pileup_files.txt -s WWZ_ScaleST -c -o $PWD -a 1 -n 10 -g {gridpack} -l -d"
   ]
  }
 ],
 "metadata": {
  "kernelspec": {
   "display_name": "Python 3",
   "language": "python",
   "name": "python3"
  },
  "language_info": {
   "codemirror_mode": {
    "name": "ipython",
    "version": 3
   },
   "file_extension": ".py",
   "mimetype": "text/x-python",
   "name": "python",
   "nbconvert_exporter": "python",
   "pygments_lexer": "ipython3",
   "version": "3.8.10"
  },
  "toc": {
   "base_numbering": 1,
   "nav_menu": {},
   "number_sections": true,
   "sideBar": true,
   "skip_h1_title": false,
   "title_cell": "Table of Contents",
   "title_sidebar": "Contents",
   "toc_cell": false,
   "toc_position": {},
   "toc_section_display": true,
   "toc_window_display": true
  }
 },
 "nbformat": 4,
 "nbformat_minor": 5
}
